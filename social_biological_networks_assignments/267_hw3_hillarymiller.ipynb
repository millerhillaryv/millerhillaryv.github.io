{
 "cells": [
  {
   "cell_type": "markdown",
   "metadata": {},
   "source": [
    "# BST 267: Introduction to Social and Biological Networks (2017)\n",
    "# Homework 3"
   ]
  },
  {
   "cell_type": "markdown",
   "metadata": {},
   "source": [
    "In this homework, you will use Python and NetworkX to explore different network properties. Throughout this assignment, use Python and NetworkX to answer the questions and provide your solutions as a Jupyter Notebook.\n",
    "\n",
    "Before proceeding, go to the \"Cell\" menu and click on \"Run All\". This will run through the notebook, making sure that the questions and figures show up correctly.\n",
    "\n",
    "All questions ask you to analyze an empirical protein-protein interaction network. The vertex file is called `yeast_vertices.txt` and the edge file is called `yeast_edges.txt`; the former maps vertex IDs (numbers) to protein names, and the latter lists the edges of the network as pairs of vertex IDs. This is a relatively large network, so you may not want to visualize it. We provide a visualization of the network below."
   ]
  },
  {
   "cell_type": "markdown",
   "metadata": {},
   "source": [
    "Visualization of protein-protein interaction network in budding yeast.\n",
    "<img src=\"yeast.png\">"
   ]
  },
  {
   "cell_type": "markdown",
   "metadata": {
    "collapsed": true
   },
   "source": [
    "## Question 1\n",
    "The edge list `yeast_edges.txt` specifies each edge of the network. Download all files to your working directory and then read in the edge list file using the following script."
   ]
  },
  {
   "cell_type": "code",
   "execution_count": 44,
   "metadata": {},
   "outputs": [],
   "source": [
    "#importing the networkx package, but calling it by name nx so it can be easily referred \n",
    "#to for future codes\n",
    "import networkx as nx\n",
    "#creating an empty graph, G\n",
    "G = nx.Graph()\n",
    "#reading in the file 'yeast_edges.txt' and calling it 'filename'\n",
    "filename = \"yeast_edges.txt\"\n",
    "#creating a for-loop that looks at each variable, and calls it line, in the file \n",
    "#we opened\n",
    "for line in open(filename):\n",
    "    #for each variable, remove all whitespace (i.e. empty space) at the beginning \n",
    "    #and end of a string; and comma indicates a separate variable\n",
    "    #(gets rid of the commas)\n",
    "    line = line.rstrip().split(\",\")\n",
    "    ##add an edge between the 1st and 2nd value (so between the two vertices) \n",
    "    #of each row (string)\n",
    "    ##(so if a value is repeated, it will have multiple edges)\n",
    "    G.add_edge(int(line[0]), int(line[1]))"
   ]
  },
  {
   "cell_type": "markdown",
   "metadata": {},
   "source": [
    "### 1.1 Add a comment line before each line of code in the above script, explaining briefly what the line does."
   ]
  },
  {
   "cell_type": "markdown",
   "metadata": {},
   "source": [
    "### 1.2 How many vertices and edges does the graph have? What is the edge density of the graph?"
   ]
  },
  {
   "cell_type": "code",
   "execution_count": 45,
   "metadata": {},
   "outputs": [
    {
     "name": "stdout",
     "output_type": "stream",
     "text": [
      "2361\n",
      "7182\n"
     ]
    },
    {
     "data": {
      "text/plain": [
       "0.0025779079533952147"
      ]
     },
     "execution_count": 45,
     "metadata": {},
     "output_type": "execute_result"
    }
   ],
   "source": [
    "# number of vertices (nodes)\n",
    "print(nx.number_of_nodes(G))\n",
    "#number of edges\n",
    "print(nx.number_of_edges(G))\n",
    "#edge density (The density is 0 for a graph without edges and 1 for a complete graph; \n",
    "#can be higher than 1 if self-loops present) \n",
    "#this density is expected since we only have e=(0,1) per string\n",
    "nx.density(G)"
   ]
  },
  {
   "cell_type": "markdown",
   "metadata": {},
   "source": [
    "### 1.3 What is the average vertex degree in this network?"
   ]
  },
  {
   "cell_type": "code",
   "execution_count": 46,
   "metadata": {},
   "outputs": [
    {
     "name": "stdout",
     "output_type": "stream",
     "text": [
      "[6.0838627700127068]\n"
     ]
    }
   ],
   "source": [
    "import numpy as np\n",
    "# average degree connectivity, per string\n",
    "average_degree = dict(G.degree())\n",
    "\n",
    "avg_vertex = []\n",
    "avg_vertex.append(np.mean(list(average_degree.values())))\n",
    "\n",
    "#nodes = G.nodes()\n",
    "#for i in nodes\n",
    " #   average_degree.append(nx.average_degree_connectivity(G))\n",
    "\n",
    "print(avg_vertex)\n"
   ]
  },
  {
   "cell_type": "markdown",
   "metadata": {},
   "source": [
    "### 1.4 How many (connected) components does the network have? What proportion of nodes belong to the largest connected component? Explore online help for NetworkX as needed."
   ]
  },
  {
   "cell_type": "code",
   "execution_count": 47,
   "metadata": {},
   "outputs": [
    {
     "name": "stdout",
     "output_type": "stream",
     "text": [
      "101\n",
      "[0.9419737399407031]\n"
     ]
    }
   ],
   "source": [
    "# number of  connected components\n",
    "print(nx.number_connected_components(G))\n",
    "\n",
    "largest=[]\n",
    "Gc = max(nx.connected_component_subgraphs(G), key=len)\n",
    "largest.append(Gc.number_of_nodes()/nx.number_of_nodes(G))\n",
    "print(largest)"
   ]
  },
  {
   "cell_type": "markdown",
   "metadata": {},
   "source": [
    "## Question 2"
   ]
  },
  {
   "cell_type": "markdown",
   "metadata": {},
   "source": [
    "For this question, before proceeding, you need to import the plotting module."
   ]
  },
  {
   "cell_type": "code",
   "execution_count": 48,
   "metadata": {
    "collapsed": true
   },
   "outputs": [],
   "source": [
    "import matplotlib.pyplot as plt\n",
    "%matplotlib notebook\n",
    "% matplotlib inline"
   ]
  },
  {
   "cell_type": "markdown",
   "metadata": {},
   "source": [
    "### 2.1 Plot the vertex degree distribution (histogram) of the network using the `plt.hist()` function. Use 20 bins for the plot. Also, use `plt.xlabel()` and `plt.ylabel()` functions to add axis labels to your plot. Explore online help as needed."
   ]
  },
  {
   "cell_type": "code",
   "execution_count": 49,
   "metadata": {},
   "outputs": [
    {
     "data": {
      "text/plain": [
       "Text(0,0.5,'Count')"
      ]
     },
     "execution_count": 49,
     "metadata": {},
     "output_type": "execute_result"
    },
    {
     "data": {
      "image/png": "[encoded data removed]",
      "text/plain": [
       "<matplotlib.figure.Figure at 0x275c0d7d898>"
      ]
     },
     "metadata": {},
     "output_type": "display_data"
    }
   ],
   "source": [
    "#creating the list of x-values, using  average degree values\n",
    "x = []\n",
    "x.append(list(average_degree.values()))\n",
    "\n",
    "#plotting the histogram\n",
    "plt.hist(x=x, bins=20, data=filename)\n",
    "plt.xlabel(\"Average Vertex Degree\")\n",
    "plt.ylabel(\"Count\")"
   ]
  },
  {
   "cell_type": "markdown",
   "metadata": {},
   "source": [
    "### 2.2 Comment briefly on the shape of the distribution. In particular, how useful or informative is the average degree in describing this network?"
   ]
  },
  {
   "cell_type": "markdown",
   "metadata": {},
   "source": [
    "ANSWER: It looks like a power distribution. The average degree (~6 from our previous answer) is not super information; because the graph demonstrates that average has a very high variance to it. Since looking at the graph, a lot of points have a vertex degree of 1, so average vertex degree is probably not the right approach to evaluating a network. "
   ]
  },
  {
   "cell_type": "markdown",
   "metadata": {},
   "source": [
    "## Question 3"
   ]
  },
  {
   "cell_type": "markdown",
   "metadata": {
    "collapsed": true
   },
   "source": [
    "Let's examine some of the proteins in more detail. We will first build a dictionary from the `yeast_vertices.txt` file, where the keys of the dictionary are node IDs and the values are the corresponding text fields (protein names / descriptions)."
   ]
  },
  {
   "cell_type": "code",
   "execution_count": 50,
   "metadata": {},
   "outputs": [],
   "source": [
    "#read in the file yeast_vertices.txt and call it 'filename'\n",
    "filename = \"yeast_vertices.txt\"\n",
    "#create an empty dictionary called 'proteins'\n",
    "proteins = {}\n",
    "#start a for-loop; for each variable in  the file\n",
    "for line in open(filename):\n",
    "#the variable is created by removing all white space, replacing the tab with nothing, \n",
    "#and splitting values based on the bar \"|\" \n",
    "    line = line.rstrip().replace(\"\\t\",\"\").split(\"|\")\n",
    "#protein_id is anything in position 0 of the  line (so protein_id = 1,2, 3, etc)\n",
    "    protein_id = int(line[0])\n",
    "#values in position two are the protein name\n",
    "    protein_name = line[1]\n",
    "#filling in the proteins dictionary, by having the keys be the protein_id and \n",
    "#the values be the protein_name\n",
    "    proteins[protein_id] = protein_name"
   ]
  },
  {
   "cell_type": "markdown",
   "metadata": {},
   "source": [
    "### 3.1 Add a comment line before each line of code in the above script, explaining briefly what the line does."
   ]
  },
  {
   "cell_type": "markdown",
   "metadata": {},
   "source": [
    "### 3.2 Use the `proteins` dictionary to look up the names / descriptions of proteins whose IDs are 15, 80, 200, and 1250."
   ]
  },
  {
   "cell_type": "code",
   "execution_count": 51,
   "metadata": {},
   "outputs": [
    {
     "data": {
      "text/plain": [
       "['ADE5,7 phosphoribosylamine-glycine ligase and phosphoribosylformylglycinamidine cyclo-ligase',\n",
       " 'Unknown protein',\n",
       " 'SBP1 single-strand nucleic acid binding protein',\n",
       " 'EBP2 required for pre-rRNA processing and ribosomal subunit assembly']"
      ]
     },
     "execution_count": 51,
     "metadata": {},
     "output_type": "execute_result"
    }
   ],
   "source": [
    "mykeys = [15, 80, 200, 1250]\n",
    "[proteins[x] for x in mykeys]"
   ]
  },
  {
   "cell_type": "markdown",
   "metadata": {},
   "source": [
    "### 3.3 Some of the proteins are unknown (their biological function is not known at present) and the name / description of these proteins is \"Unknown protein\" in both the `yeast_vertices.txt` file as well as the `proteins` dictionary. Using the `proteins` dictionary, find out how many proteins have unknown functions."
   ]
  },
  {
   "cell_type": "code",
   "execution_count": 52,
   "metadata": {},
   "outputs": [
    {
     "data": {
      "text/plain": [
       "56"
      ]
     },
     "execution_count": 52,
     "metadata": {},
     "output_type": "execute_result"
    }
   ],
   "source": [
    "sum( x == \"Unknown protein\" for x in proteins.values() )"
   ]
  }
 ],
 "metadata": {
  "anaconda-cloud": {},
  "kernelspec": {
   "display_name": "Python 3",
   "language": "python",
   "name": "python3"
  },
  "language_info": {
   "codemirror_mode": {
    "name": "ipython",
    "version": 3
   },
   "file_extension": ".py",
   "mimetype": "text/x-python",
   "name": "python",
   "nbconvert_exporter": "python",
   "pygments_lexer": "ipython3",
   "version": "3.6.3"
  }
 },
 "nbformat": 4,
 "nbformat_minor": 1
}

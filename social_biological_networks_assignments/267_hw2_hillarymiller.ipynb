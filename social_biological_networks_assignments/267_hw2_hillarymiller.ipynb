{
 "cells": [
  {
   "cell_type": "markdown",
   "metadata": {},
   "source": [
    "# BST 267: Introduction to Social and Biological Networks (2017)\n",
    "# Homework 2"
   ]
  },
  {
   "cell_type": "markdown",
   "metadata": {},
   "source": [
    "In this homework, you'll get practice with commonly used Python data types and with some common Python operations. Consult lecture notes for lectures 3 and 4 for help. If you're stuck, use Google or your favorite search engine to look for help."
   ]
  },
  {
   "cell_type": "markdown",
   "metadata": {},
   "source": [
    "## Question 1: Lists"
   ]
  },
  {
   "cell_type": "markdown",
   "metadata": {},
   "source": [
    "Create a list called `numbers` that contains numbers 1,3,5,...,99. In other words, the numbers in this list range from 1 to 99 in increments of 2. Compute the square root of each number on this list and store the square roots in a list called `roots`. Note that `numbers` and `roots` should have the same number of elements. Print out the elements of `numbers` and `roots`, i.e., a number and its square root. Once you're done, run the code underneath to create a plot."
   ]
  },
  {
   "cell_type": "code",
   "execution_count": 10,
   "metadata": {},
   "outputs": [
    {
     "name": "stdout",
     "output_type": "stream",
     "text": [
      "[1, 3, 5, 7, 9, 11, 13, 15, 17, 19, 21, 23, 25, 27, 29, 31, 33, 35, 37, 39, 41, 43, 45, 47, 49, 51, 53, 55, 57, 59, 61, 63, 65, 67, 69, 71, 73, 75, 77, 79, 81, 83, 85, 87, 89, 91, 93, 95, 97, 99] [1.0, 1.7320508075688772, 2.2360679774997898, 2.6457513110645907, 3.0, 3.3166247903553998, 3.6055512754639891, 3.872983346207417, 4.1231056256176606, 4.358898943540674, 4.5825756949558398, 4.7958315233127191, 5.0, 5.196152422706632, 5.3851648071345037, 5.5677643628300215, 5.7445626465380286, 5.9160797830996161, 6.0827625302982193, 6.2449979983983983, 6.4031242374328485, 6.5574385243020004, 6.7082039324993694, 6.8556546004010439, 7.0, 7.1414284285428504, 7.2801098892805181, 7.416198487095663, 7.5498344352707498, 7.6811457478686078, 7.810249675906654, 7.9372539331937721, 8.0622577482985491, 8.1853527718724504, 8.3066238629180749, 8.426149773176359, 8.5440037453175304, 8.6602540378443873, 8.7749643873921226, 8.8881944173155887, 9.0, 9.1104335791442992, 9.2195444572928871, 9.3273790530888157, 9.4339811320566032, 9.5393920141694561, 9.6436507609929549, 9.7467943448089631, 9.8488578017961039, 9.9498743710661994]\n"
     ]
    }
   ],
   "source": [
    "numbers = list(range(1,100,2))\n",
    "import numpy as np\n",
    "roots = list(np.sqrt(numbers))\n",
    "print(numbers, roots)"
   ]
  },
  {
   "cell_type": "code",
   "execution_count": 11,
   "metadata": {},
   "outputs": [
    {
     "data": {
      "text/plain": [
       "Text(0,0.5,'Square root of x')"
      ]
     },
     "execution_count": 11,
     "metadata": {},
     "output_type": "execute_result"
    },
    {
     "data": {
      "image/png": "[encoded data removed]",
      "text/plain": [
       "<matplotlib.figure.Figure at 0x1aa0238d4a8>"
      ]
     },
     "metadata": {},
     "output_type": "display_data"
    }
   ],
   "source": [
    "# run this code once you have `numbers` and `roots`\n",
    "import matplotlib.pyplot as plt\n",
    "% matplotlib notebook\n",
    "% matplotlib inline\n",
    "plt.plot(numbers, roots, '.-')\n",
    "plt.xlabel(\"Number x\")\n",
    "plt.ylabel(\"Square root of x\")"
   ]
  },
  {
   "cell_type": "markdown",
   "metadata": {},
   "source": [
    "## Question 2: More lists"
   ]
  },
  {
   "cell_type": "markdown",
   "metadata": {},
   "source": [
    "Python objects can be nested within other Python objects. Below we have an example of a list nested within another list. To create this list of lists, run the code below. Examine each line of code and make sure you understand what it does. Briefly, the code generates a so-called Barabasi-Albert graph and assigns it to variable `G`. The first loop is over all nodes of the graph and the second over all neighbors of each node. In the end, the list `neighbor_degrees` will contain as many lists are there are nodes in the graph, and each nested list will contain the degrees of the neighboring nodes of the given node."
   ]
  },
  {
   "cell_type": "code",
   "execution_count": 12,
   "metadata": {
    "collapsed": true
   },
   "outputs": [],
   "source": [
    "# run this code first\n",
    "import networkx as nx\n",
    "G = nx.barabasi_albert_graph(1000, 2, seed=123)\n",
    "node_degrees = []\n",
    "neighbor_degrees = []\n",
    "for node in G.nodes():\n",
    "    node_degrees.append(G.degree(node))\n",
    "    degrees = []\n",
    "    for neighbor in G.neighbors(node):\n",
    "        degrees.append(G.degree(neighbor))\n",
    "    neighbor_degrees.append(degrees)"
   ]
  },
  {
   "cell_type": "markdown",
   "metadata": {},
   "source": [
    "Now write the code to compute the average neighbor degree of each node, i.e., the average degree of the neighbors of each node. Use `plt.plot` to make a plot of degree on the x-axis and average neighbor degree on the y-axis. **Use `plt.xlabel` and `plt.ylabel` functions to label your plot.**\n",
    "\n",
    "NOTE: Core Python language is lean, meaning that it has relatively few built-in functions, and the language becomes expressive when we use some of the many existing libraries, such as `networkx`. As a consequence, there is no built-in function for computing the mean of a sequence of numbers stored in a list. To compute the mean, you can simply add up the numbers in the list and then divide the result by the number of elements in your list. Alternatively, you can use the `mean` function in the `numpy` library."
   ]
  },
  {
   "cell_type": "code",
   "execution_count": 13,
   "metadata": {
    "collapsed": true
   },
   "outputs": [],
   "source": [
    "average_neighbor_degree = []\n",
    "for sublist in neighbor_degrees:\n",
    "    average_neighbor_degree.append([np.mean(sublist)]) "
   ]
  },
  {
   "cell_type": "code",
   "execution_count": 18,
   "metadata": {},
   "outputs": [
    {
     "data": {
      "text/plain": [
       "Text(0,0.5,'Average Neighbor Degree')"
      ]
     },
     "execution_count": 18,
     "metadata": {},
     "output_type": "execute_result"
    },
    {
     "data": {
      "image/png": "[encoded data removed]",
      "text/plain": [
       "<matplotlib.figure.Figure at 0x1aa07e3ca90>"
      ]
     },
     "metadata": {},
     "output_type": "display_data"
    }
   ],
   "source": [
    "plt.plot(node_degrees, average_neighbor_degree, '.')\n",
    "plt.xlabel(\"Node Degree\")\n",
    "plt.ylabel(\"Average Neighbor Degree\")"
   ]
  },
  {
   "cell_type": "markdown",
   "metadata": {},
   "source": [
    "## Question 3: Dictionaries and lists"
   ]
  },
  {
   "cell_type": "markdown",
   "metadata": {},
   "source": [
    "There are several centrality measures that are used to quantify the centrality or importance of a node in a network. Degree, also known as degree centrality, is the most commonly used metric, but another centrality measure is so-called betweenness centrality. In NetworkX, if the network object is called `G`, then `G.degree()` returns a dictionary of node degrees: the keys are node IDs and the values are node degrees. You can compute betweenness centrality using the the `betweenness_centrality` function in the `nx` library. In other words, `nx.betweenness_centrality(G)` returns a dictionary of betweenness centrality values: the keys are node IDs and the values of node betweenness centrality values. (It's worth noting the following difference: the degree dictionary is available as a method of the network object `G` whereas the betweenness centrality dictionary is computed by calling a method or function in the `nx` library.) Generate two dictionaries, one for degree centrality and one for betweenness centrality. Then generate two lists called `x` and `y` corresponding to degree centrality and betweenness centrality, respectively, and plot them against one another. Make sure that the values in `x` and `y` for any given index are always for the same node as otherwise your plot will not be correct. **Use `plt.xlabel` and `plt.ylabel` functions to label your plot.**\n"
   ]
  },
  {
   "cell_type": "code",
   "execution_count": 16,
   "metadata": {
    "collapsed": true
   },
   "outputs": [],
   "source": [
    "betweenness =nx.betweenness_centrality(G)\n",
    "degree_centrality = dict(G.degree())\n",
    "\n",
    "x = []\n",
    "y = []\n",
    "\n",
    "for key in range(1000):\n",
    "    x.append(list(degree_centrality.values()))\n",
    "    y.append(list(betweenness.values()))\n",
    "    "
   ]
  },
  {
   "cell_type": "code",
   "execution_count": 17,
   "metadata": {},
   "outputs": [
    {
     "data": {
      "text/plain": [
       "Text(0,0.5,'Betweenness Centrality')"
      ]
     },
     "execution_count": 17,
     "metadata": {},
     "output_type": "execute_result"
    },
    {
     "data": {
      "image/png": "[encoded data removed]",
      "text/plain": [
       "<matplotlib.figure.Figure at 0x1aa7f642438>"
      ]
     },
     "metadata": {},
     "output_type": "display_data"
    }
   ],
   "source": [
    "plt.plot(x, y, '.-')\n",
    "plt.xlabel(\"Degree Centrality\")\n",
    "plt.ylabel(\"Betweenness Centrality\")"
   ]
  }
 ],
 "metadata": {
  "kernelspec": {
   "display_name": "Python 3",
   "language": "python",
   "name": "python3"
  },
  "language_info": {
   "codemirror_mode": {
    "name": "ipython",
    "version": 3
   },
   "file_extension": ".py",
   "mimetype": "text/x-python",
   "name": "python",
   "nbconvert_exporter": "python",
   "pygments_lexer": "ipython3",
   "version": "3.6.3"
  }
 },
 "nbformat": 4,
 "nbformat_minor": 1
}

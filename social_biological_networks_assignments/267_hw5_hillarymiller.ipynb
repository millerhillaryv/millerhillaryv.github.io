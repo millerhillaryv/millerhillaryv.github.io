{
 "cells": [
  {
   "cell_type": "markdown",
   "metadata": {},
   "source": [
    "#### BST 267: Introduction to Social and Biological Networks (2017)\n",
    "# Homework 5"
   ]
  },
  {
   "cell_type": "markdown",
   "metadata": {},
   "source": [
    "In this homework we'll get practice with fixed choice study designs, explore the collision of egocentric samples, and investigate the \"friendship paradox\" in the context of immunization."
   ]
  },
  {
   "cell_type": "code",
   "execution_count": 19,
   "metadata": {
    "collapsed": true
   },
   "outputs": [],
   "source": [
    "# some imports first\n",
    "import networkx as nx\n",
    "import random\n",
    "import numpy as np\n",
    "import scipy.stats as ss\n",
    "import matplotlib.pyplot as plt\n",
    "%matplotlib notebook\n",
    "%matplotlib inline"
   ]
  },
  {
   "cell_type": "markdown",
   "metadata": {},
   "source": [
    "## Question 1\n",
    "\n",
    "In the fixed choice design, one typically takes a sample of some number of the individuals in the population of interest, and each person is then asked to nominate up to some fixed number of their contacts as their alters. Treating the network `G` of 1000 nodes below as the true population network, which is unobserved in most situations, choose 200 nodes uniformly at random as egos and have each ego nominate up to 3 alters. Construct a network `H` out of these samples. Make a scatter plot of the degrees of the nodes in `H` (y-axis) vs. the degrees of the nodes in `G` (x-axis). Use `ss.pearsonr` to compute the Pearson linear correlation coefficient between the degrees of nodes in `H` and `G`. Print out the value of this correlation. Are the node degrees in the sample significantly correlated with the node degrees in the underlying population network?"
   ]
  },
  {
   "cell_type": "code",
   "execution_count": 20,
   "metadata": {
    "collapsed": true
   },
   "outputs": [],
   "source": [
    "G = nx.barabasi_albert_graph(1000, 3)\n",
    "    #don't need to track who is ego and who is alter\n",
    " #initilize a graph\n",
    "H = nx.Graph()\n",
    "#randomly select 200 egos\n",
    "egos = random.sample(G.nodes(),200)  \n",
    "\n",
    "#create a list for alters\n",
    "alters = []\n",
    "for node in egos:\n",
    "    #randomly select 3 neighbors from the list of ego nodes\n",
    "    nominations = random.sample(list(G.neighbors(node)), 3)\n",
    "    alters.append(nominations)\n",
    "    for e, a in zip((node, node, node), nominations):\n",
    "        H.add_edge(e,a)"
   ]
  },
  {
   "cell_type": "code",
   "execution_count": 21,
   "metadata": {
    "collapsed": true
   },
   "outputs": [],
   "source": [
    "h = []\n",
    "g = []\n",
    "for node in H.nodes():\n",
    "    h.append(H.degree()[node])\n",
    "    g.append(G.degree()[node])"
   ]
  },
  {
   "cell_type": "code",
   "execution_count": 22,
   "metadata": {
    "scrolled": true
   },
   "outputs": [
    {
     "data": {
      "text/plain": [
       "Text(0.5,0,'G node degree')"
      ]
     },
     "execution_count": 22,
     "metadata": {},
     "output_type": "execute_result"
    },
    {
     "data": {
      "image/png": "[encoded data removed]",
      "text/plain": [
       "<matplotlib.figure.Figure at 0x16fe305b5f8>"
      ]
     },
     "metadata": {},
     "output_type": "display_data"
    }
   ],
   "source": [
    "plt.plot(g, h, '.')\n",
    "plt.ylabel(\"H node degree\")\n",
    "plt.xlabel(\"G node degree\")"
   ]
  },
  {
   "cell_type": "code",
   "execution_count": 23,
   "metadata": {},
   "outputs": [
    {
     "name": "stdout",
     "output_type": "stream",
     "text": [
      "(0.51607406140847112, 1.3941993470618775e-35)\n"
     ]
    }
   ],
   "source": [
    "print(ss.pearsonr(g,h))"
   ]
  },
  {
   "cell_type": "markdown",
   "metadata": {},
   "source": [
    "Based on the results, there does appear to a be a positive correlations between the node degree of Network G and the node degree of Network H. It also appears the node degrees in the sample are significantly correlated with the node degrees in the underyling population/network (p < .001)."
   ]
  },
  {
   "cell_type": "markdown",
   "metadata": {},
   "source": [
    "## Question 2\n",
    "\n",
    "Egocentric samples originating from different egos may \"collide\" if the number of egos that are sampled is large, if the population is small, or both. The Framingham studies on the spread of obesity and smoking by Nicholas Christakis and James Fowler specifically relied on this phenomenon (see e.g. http://www.nejm.org/doi/full/10.1056/NEJMsa066082#t=article). By \"collision\" we refer to the phenomenon that the egocentric samples originating from different egos end up sharing members of the population. This can happen in two different ways. First, it is possible for a person to be asked to nominate others and at the same time for that person to be nominated by someone else; in this case the person is both an ego and an alter. Second, two egos may nominate the same alter. Using network `G` below, 200 randomly chosen egos and up to 3 alters per ego, answer the following questions using simulation (doing this for a single realization of the sample is sufficient):\n",
    "\n",
    "(1) What proportion of alters are also egos in the sample?\n",
    "\n",
    "(2) What proportion of alter nominations (events of an ego choosing or nominating an alter) result in multiple (repeated) nominations of an alter? In other words, these are nominations that lead to the same alter being included in the sample multiple times because they are nominated by more than one ego.\n",
    "\n",
    "(3) What is the relative size of (proportion of nodes in) the largest connected component in the resulting sampled network?\n"
   ]
  },
  {
   "cell_type": "code",
   "execution_count": 24,
   "metadata": {
    "collapsed": true
   },
   "outputs": [],
   "source": [
    "G = nx.barabasi_albert_graph(2000, 3)\n",
    "\n",
    " #initilize a graph\n",
    "H = nx.Graph()\n",
    "#randomly select 200 egos\n",
    "egos = random.sample(G.nodes(),200)  \n",
    "\n",
    "#create a list for alters\n",
    "alters = []\n",
    "for node in egos:\n",
    "    #randomly select 3 neighbors from the list of ego nodes\n",
    "    nominations = random.sample(list(G.neighbors(node)),3)\n",
    "    alters.append(nominations)\n",
    "    for e, a in zip((node, node, node), nominations):\n",
    "        H.add_edge(e,a)\n",
    "\n",
    "\n"
   ]
  },
  {
   "cell_type": "code",
   "execution_count": 25,
   "metadata": {},
   "outputs": [
    {
     "name": "stdout",
     "output_type": "stream",
     "text": [
      "[283, 835, 78, 7, 357, 1450, 1669, 7, 45, 798, 24, 1142, 5, 7, 1087, 915, 626, 103, 1131, 107, 7, 1501, 45, 559, 696, 7, 7, 1957, 981, 83, 1643, 1142, 1036, 1599, 5, 287, 526, 287, 7, 1651, 7, 915, 24, 1612, 7, 665]\n"
     ]
    }
   ],
   "source": [
    "common = []\n",
    "for sublists in alters:\n",
    "    for node in egos: \n",
    "        if node in sublists:\n",
    "            common.append(node)\n",
    "            \n",
    "print(common)"
   ]
  },
  {
   "cell_type": "code",
   "execution_count": 26,
   "metadata": {
    "scrolled": true
   },
   "outputs": [
    {
     "name": "stdout",
     "output_type": "stream",
     "text": [
      "46\n"
     ]
    }
   ],
   "source": [
    "print(len(common))\n",
    "myset = set(common)"
   ]
  },
  {
   "cell_type": "code",
   "execution_count": 27,
   "metadata": {},
   "outputs": [
    {
     "name": "stdout",
     "output_type": "stream",
     "text": [
      "600\n",
      "445\n"
     ]
    }
   ],
   "source": [
    "alters_list = []\n",
    "for node in alters:\n",
    "    alters_list.extend(node)\n",
    "print(len(alters_list))\n",
    "\n",
    "alters_set = set(alters_list)\n",
    "print(len(alters_set))"
   ]
  },
  {
   "cell_type": "code",
   "execution_count": 28,
   "metadata": {},
   "outputs": [
    {
     "name": "stdout",
     "output_type": "stream",
     "text": [
      "0.07191011235955057\n",
      "The proportion of alters that are also egos in the sample is 0.07191011235955057\n"
     ]
    }
   ],
   "source": [
    "#(1) What proportion of alters are also egos in the sample?\n",
    "proportion1 = (len(myset))/(len(alters_set))\n",
    "print(proportion1)\n",
    "\n",
    "print(\"The proportion of alters that are also egos in the sample is\", proportion1)"
   ]
  },
  {
   "cell_type": "code",
   "execution_count": 29,
   "metadata": {},
   "outputs": [
    {
     "name": "stdout",
     "output_type": "stream",
     "text": [
      "0.25833333333333336\n",
      "The proportion of alter nominations that result in  multiple nominations of an alter is 0.25833333333333336\n"
     ]
    }
   ],
   "source": [
    "#(2) What proportion of alter nominations (events of an ego choosing or nominating an alter) result in multiple \n",
    "#(repeated) nominations of an alter? In other words, these are nominations that lead to the same alter being included \n",
    "#in the sample multiple times because they are nominated by more than one ego.\n",
    "\n",
    "proportion2 = (len(alters_list)-len(alters_set))/(len(alters_list))\n",
    "print(proportion2)\n",
    "\n",
    "print(\"The proportion of alter nominations that result in  multiple nominations of an alter is\", proportion2)"
   ]
  },
  {
   "cell_type": "code",
   "execution_count": 31,
   "metadata": {},
   "outputs": [
    {
     "name": "stdout",
     "output_type": "stream",
     "text": [
      "37\n",
      "0.199\n",
      "The relative size of the largest connected component in the resulting sampled network is 0.199\n"
     ]
    }
   ],
   "source": [
    "#(3) What is the relative size of (proportion of nodes in) the largest connected component in the resulting sampled network?\n",
    "# number of  connected components\n",
    "print(nx.number_connected_components(H))\n",
    "\n",
    "largest=[]\n",
    "Hc = max(nx.connected_component_subgraphs(H), key=len)\n",
    "largest.append(Hc.number_of_nodes()/nx.number_of_nodes(H))\n",
    "larger = (Hc.number_of_nodes()/nx.number_of_nodes(G))\n",
    "\n",
    "print(larger)\n",
    "print(\"The relative size of the largest connected component in the resulting sampled network is\", larger)"
   ]
  },
  {
   "cell_type": "markdown",
   "metadata": {},
   "source": [
    "## Question 3\n",
    "\n",
    "The term \"friendship paradox\" is sometimes used to refer to the idea that your friends have on average more friends than you do. Formulated in terms of networks, this is analogous to stating that the mean degree of the neighbors of a randomly chosen node is, on average, higher than the degree of the node itself. Here we consider a variant of this idea by contructing two cohorts, where one of the cohorts makes use of the \"friendship paradox.\" Cohort A, the \"ego cohort,\" consists of a random sample of 500 nodes from the network. Cohort B, the \"alter cohort,\" also consists of 500 nodes, but its nodes are chosen in the following way: for each node in Cohort A, we select one of its network neighbors uniformly at random for inclusion in Cohort B. For example, if node 15 belongs to Cohort A, we would pick the corresponding node in Cohort B by finding the network neighbors of node 15, say nodes 20, 22, and 24, and then choosing one of these nodes (20, 22, 24) to be included in Cohort B. Note that it is possible for the same alter to be chosen by several egos, and therefore Cohort B may not have exactly 500 nodes. The network structure of the population is given by network `G` below.\n",
    "\n",
    "Construct these two cohorts and print out the average degree of nodes in each cohort. Explain the results in the context of the friendship paradox. Finally, consider an immunization campaign that targets everyone in either Cohort A or Cohort B; assuming that the network ties accurately reflect potential pathways for the pathogen to spread, which cohort results in more effective immunization of the population and why?"
   ]
  },
  {
   "cell_type": "code",
   "execution_count": 32,
   "metadata": {
    "collapsed": true
   },
   "outputs": [],
   "source": [
    "G = nx.barabasi_albert_graph(10000, 3)\n",
    "\n",
    "\n",
    "#randomly select 500 nodes\n",
    "cohortA = random.sample(G.nodes(),500) \n",
    "\n",
    "#Create cohort B, from cohortA\n",
    "cohortB = []\n",
    "for node in cohortA:\n",
    "    #randomly uniform select 1 neighbor from the list of CohortA nodes\n",
    "    nominations = random.choice(list(G.neighbors(node)))\n",
    "    cohortB.append(nominations)\n"
   ]
  },
  {
   "cell_type": "code",
   "execution_count": 33,
   "metadata": {},
   "outputs": [
    {
     "name": "stdout",
     "output_type": "stream",
     "text": [
      "467\n"
     ]
    }
   ],
   "source": [
    "CohortB_set = set(cohortB)\n",
    "print(len(CohortB_set))"
   ]
  },
  {
   "cell_type": "code",
   "execution_count": 34,
   "metadata": {},
   "outputs": [
    {
     "name": "stdout",
     "output_type": "stream",
     "text": [
      "The mean degree of nodes in Cohort A is 5.898 . The mean degree of nodes in Cohort B is 14.0042826552\n"
     ]
    }
   ],
   "source": [
    "#refer back to the original Graph G to get the neighbor degrees\n",
    "cohortA_degrees = []\n",
    "for node in cohortA:\n",
    "    cohortA_degrees.append(G.degree(node))\n",
    "\n",
    "\n",
    "cohortB_degrees = []\n",
    "for node in CohortB_set:\n",
    "    cohortB_degrees.append(G.degree(node))\n",
    "\n",
    "print(\"The mean degree of nodes in Cohort A is\", np.mean(cohortA_degrees),\n",
    "      \". The mean degree of nodes in Cohort B is\", np.mean(cohortB_degrees))"
   ]
  },
  {
   "cell_type": "markdown",
   "metadata": {},
   "source": [
    "Since the average degree of nodes in Cohort B is higher than the average degree of nodes in Cohort A, the immunization would be more effective if focused on the individuals in Cohort B. Because the average degree of connectivity is higher, the effects of the immunization efforts can move more rapidly through the network. "
   ]
  }
 ],
 "metadata": {
  "anaconda-cloud": {},
  "kernelspec": {
   "display_name": "Python 3",
   "language": "python",
   "name": "python3"
  },
  "language_info": {
   "codemirror_mode": {
    "name": "ipython",
    "version": 3
   },
   "file_extension": ".py",
   "mimetype": "text/x-python",
   "name": "python",
   "nbconvert_exporter": "python",
   "pygments_lexer": "ipython3",
   "version": "3.6.3"
  }
 },
 "nbformat": 4,
 "nbformat_minor": 1
}
